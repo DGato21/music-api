{
    "metadata": {
        "kernelspec": {
            "name": "SQL",
            "display_name": "SQL",
            "language": "sql"
        },
        "language_info": {
            "name": "sql",
            "version": ""
        }
    },
    "nbformat_minor": 2,
    "nbformat": 4,
    "cells": [
        {
            "cell_type": "code",
            "source": [
                "CREATE DATABASE media_api;\r\n",
                "\r\n",
                ""
            ],
            "metadata": {
                "azdata_cell_guid": "77d41bc8-53e5-438c-89bd-dbcc1995c7c6",
                "language": "sql",
                "tags": []
            },
            "outputs": [
                {
                    "output_type": "display_data",
                    "data": {
                        "text/html": "CREATE DATABASE"
                    },
                    "metadata": {}
                },
                {
                    "output_type": "display_data",
                    "data": {
                        "text/html": "Total execution time: 00:00:00.502"
                    },
                    "metadata": {}
                }
            ],
            "execution_count": 2
        }
    ]
}